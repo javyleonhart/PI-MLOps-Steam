{
 "cells": [
  {
   "cell_type": "code",
   "execution_count": 1,
   "metadata": {},
   "outputs": [],
   "source": [
    "import pandas as pd\n",
    "from sklearn.feature_extraction.text import TfidfVectorizer\n",
    "from sklearn.metrics.pairwise import cosine_similarity"
   ]
  },
  {
   "cell_type": "markdown",
   "metadata": {},
   "source": [
    "# Endpoint 1"
   ]
  },
  {
   "cell_type": "code",
   "execution_count": 61,
   "metadata": {},
   "outputs": [],
   "source": [
    "def developer(desarrollador: str):\n",
    "    resp= ['Año', 'Cantidad de items', 'Contenido Free (%)'] #Creamos las etiquetas con las que vamos a hacer el diccionario de salida\n",
    "    l = [] #Lista que será la salida de la funcion\n",
    "    df = pd.read_parquet('endpoint1', engine='auto') #Leemos el Dataset\n",
    "    c = df[(df['developer'] == desarrollador.lower())] #Lo filtramos según el valor ingresado\n",
    "    f = c.groupby(['release_date'])['free'].sum().reset_index(name='free') #Sumamos la cantidad de juegos Free to Play por año\n",
    "    c = c.groupby(['release_date'])['developer'].count().reset_index(name=\"count\") #Contamos la cantidad de items del desarrollador por año\n",
    "    c['free'] = f['free'] #Anexamos la cantidad de juego free que tiene por año la empresa\n",
    "    \n",
    "    for i in range(len(c)): #Ciclo for donde se extraen los valores de los resultados obtenidos y los ponemos en la primera lista\n",
    "        d = [c['release_date'][i], c['count'][i], round(c['free'][i]*100 / c['count'][i])]\n",
    "        z = dict(zip(resp,d))\n",
    "        l.append(z)\n",
    "    \n",
    "    r = pd.DataFrame(l).to_dict(orient='records') #Pasamos la lista a diccionario para que FastAPI pueda reconocer la salida\n",
    "\n",
    "    return \"No se encontraron datos\" if len(l) == 0 else r"
   ]
  },
  {
   "cell_type": "code",
   "execution_count": 62,
   "metadata": {},
   "outputs": [
    {
     "data": {
      "text/plain": [
       "[{'Año': '2018', 'Cantidad de items': 1, 'Contenido Free (%)': 0}]"
      ]
     },
     "execution_count": 62,
     "metadata": {},
     "output_type": "execute_result"
    }
   ],
   "source": [
    "developer('kotoshiro')"
   ]
  },
  {
   "cell_type": "markdown",
   "metadata": {},
   "source": [
    "# Endpoint 2"
   ]
  },
  {
   "cell_type": "code",
   "execution_count": 56,
   "metadata": {},
   "outputs": [],
   "source": [
    "def  userdata(User_id: str):\n",
    "    df = pd.read_parquet('endpoint2', engine='auto') #Leemos el dataset\n",
    "\n",
    "    if df[(df['user_id'] == User_id.lower())].empty == True: #Si el valor ingresado no arroja resultado, termina la función\n",
    "        response = \"No se encontraron datos\"\n",
    "    \n",
    "    else:        \n",
    "        df = df[(df['user_id'] == User_id.lower())] #Caso contrario, se filtra el dataframe según el valor ingresado\n",
    "\n",
    "        if df[df['playtime_forever'] > 0].count().empty == True: #Si no se encuentan valores, defina la variable en 0\n",
    "            jugados = 0\n",
    "        else:\n",
    "            jugados = df[df['playtime_forever'] > 0].count()[0] #Caso contrario, obtiene la cantidad de juegos jugados por el usuario\n",
    "\n",
    "        if df.groupby('user_id').sum('price').empty == True: #Si no se encuentran valores, asigna 0 en la variable\n",
    "            dinero = 0\n",
    "        else:\n",
    "            dinero = df.groupby('user_id').sum('price')['price'][0] #Caso contrario, se obtiene la cantidad de dinero gastado por el usario\n",
    "\n",
    "    \n",
    "    \n",
    "        if df['rec_games'].iloc[0] == 0: # Si no recomendó ningún juego, asigna 0 a la variable\n",
    "            porcentaje = 0\n",
    "        else:\n",
    "            porcentaje = df['rec_games'].iloc[0] * 100 / jugados #Caso contrario, saca el porcentaje de juegos recomendados sobre juegos jugados\n",
    "    \n",
    "\n",
    "        response = {'Usuario' : User_id.title(), 'Dinero gastado' : dinero, '% recomendación': porcentaje,\n",
    "                'Cantidad de items': df['items_count'].iloc[0]}\n",
    "    \n",
    "    return response"
   ]
  },
  {
   "cell_type": "code",
   "execution_count": 60,
   "metadata": {},
   "outputs": [
    {
     "data": {
      "text/plain": [
       "{'Usuario': 'Sp3Ctre',\n",
       " 'Dinero gastado': 41.95,\n",
       " '% recomendación': 160.0,\n",
       " 'Cantidad de items': 571.0}"
      ]
     },
     "execution_count": 60,
     "metadata": {},
     "output_type": "execute_result"
    }
   ],
   "source": [
    "userdata('sp3ctre')"
   ]
  },
  {
   "cell_type": "markdown",
   "metadata": {},
   "source": [
    "# Endpoint 3"
   ]
  },
  {
   "cell_type": "code",
   "execution_count": 54,
   "metadata": {},
   "outputs": [],
   "source": [
    "def UserForGenre(genre: str):\n",
    "    genero = f\"Usuario con más horas jugadas para Género {genre.title()}\" # Creamos etiqueta de salida\n",
    "    df = pd.read_parquet('endpoint3', engine='auto') #Leemos dataset\n",
    "\n",
    "    c = df[(df['genres'].str.contains(genre.lower()))] #filtramos por el genero ingresado que está dentro de las etiquetas de la columna\n",
    "    c.drop(columns='genres', inplace=True) #Borramos la columna de generos para que agrupe mas facil a continuación\n",
    "    max = c.groupby(['user_id'])['playtime_forever'].sum().sort_values(ascending=False).head(1).index[0] #Asignamos a la variable el nombre del usuario que más horas jugó al genero\n",
    "    c = c[(c['user_id'] == max)].groupby(['release_date']).sum(['playtime_forever']).reset_index(names= 'anio') # Sumamos las horas jugadas por el usuario agrupado por año\n",
    "    \n",
    "    l = [] #creamos lista \n",
    "    for i in range(len(c)): #con un ciclo for iteramos sobre los resultados obtenidos y los ponemos en la lista\n",
    "            d = {\"Año\": c['anio'].tolist()[i], \"Horas\": c['playtime_forever'].tolist()[i]}\n",
    "            l.append(d)\n",
    "\n",
    "    response = {genero : max, \"Horas jugadas\" : l} #Generamos la respuesta\n",
    "        \n",
    "    return response\n"
   ]
  },
  {
   "cell_type": "code",
   "execution_count": 55,
   "metadata": {},
   "outputs": [
    {
     "name": "stderr",
     "output_type": "stream",
     "text": [
      "C:\\Users\\Javo\\AppData\\Local\\Temp\\ipykernel_19404\\1084552427.py:6: SettingWithCopyWarning: \n",
      "A value is trying to be set on a copy of a slice from a DataFrame\n",
      "\n",
      "See the caveats in the documentation: https://pandas.pydata.org/pandas-docs/stable/user_guide/indexing.html#returning-a-view-versus-a-copy\n",
      "  c.drop(columns='genres', inplace=True) #Borramos la columna de generos para que agrupe mas facil a continuación\n"
     ]
    },
    {
     "data": {
      "text/plain": [
       "{'Usuario con más horas jugadas para Género Strategy': 'spludge',\n",
       " 'Horas jugadas': [{'Año': '2015', 'Horas': 260155}]}"
      ]
     },
     "execution_count": 55,
     "metadata": {},
     "output_type": "execute_result"
    }
   ],
   "source": [
    "UserForGenre('strategy')"
   ]
  },
  {
   "cell_type": "markdown",
   "metadata": {},
   "source": [
    "# Endpoint 4"
   ]
  },
  {
   "cell_type": "code",
   "execution_count": 51,
   "metadata": {},
   "outputs": [],
   "source": [
    "def best_developer_year(año : int):\n",
    "    df = pd.read_parquet('endpoint45', engine='auto') #Leemos el dataset\n",
    "\n",
    "\n",
    "    df.drop(columns='sent_neg') #Sacamos la columna que no usamos\n",
    "    df = df[(df['release_date'] == año)] #Filtramos el dataframe según el dato ingresado\n",
    "    if df.empty: #Si no hay resultados, termina la función\n",
    "        return \"No se encontraron datos\"\n",
    "    df = df.groupby(['developer', 'release_date']).sum(['sent_pos', 'recommend_True']).sort_values(by='recommend_True',ascending=False).head(3) #Sumamos las recomendaciones y reviews positivas y las agrupamos por desarrollador y año\n",
    "\n",
    "    response = {\"Puesto 1\": df.index[0][0].title(), \"Puesto 2\": df.index[1][0].title(), \"Puesto 3\": df.index[2][0].title()} #Extraemos los 3 con mayor cantidad de recomendaciones y reviews positivas\n",
    "\n",
    "    return response\n",
    "    "
   ]
  },
  {
   "cell_type": "code",
   "execution_count": 53,
   "metadata": {},
   "outputs": [
    {
     "data": {
      "text/plain": [
       "{'Puesto 1': 'Smartly Dressed Games',\n",
       " 'Puesto 2': 'Freejam',\n",
       " 'Puesto 3': 'Studio Wildcard,Instinct Games,Efecto Studios,Virtual Basement Llc'}"
      ]
     },
     "execution_count": 53,
     "metadata": {},
     "output_type": "execute_result"
    }
   ],
   "source": [
    "best_developer_year(2017)"
   ]
  },
  {
   "cell_type": "markdown",
   "metadata": {},
   "source": [
    "# Endpoint 5"
   ]
  },
  {
   "cell_type": "code",
   "execution_count": 49,
   "metadata": {},
   "outputs": [],
   "source": [
    "def developer_reviews_analysis(desarrolladora: str):\n",
    "    df = pd.read_parquet('endpoint45', engine='auto') #Leemos el dataset\n",
    "\n",
    "    df.drop(columns=['recommend_True', 'release_date']) #Borramos columnas innecesarias\n",
    "    df = df[(df['developer'] == desarrolladora.lower())] #Lo filtramos por el valor ingresado\n",
    "    if df.empty: #Si no devuelve resultados, termina la función\n",
    "        return \"No se encontraron datos\"\n",
    "    df = df.groupby(['developer']).sum(['sent_pos', 'sent_neg']) #Sumamos reviews positivas y negativas por el desarrollador\n",
    "    \n",
    "    neg = f\"Negativo = {df['sent_neg'][0]}\" #Creamos variables con los valores a devolver\n",
    "    pos = f\"Positivo = {df['sent_pos'][0]}\"\n",
    "\n",
    "    response = {desarrolladora.title(): [neg, pos]} #Generamos la respuesta\n",
    "\n",
    "    return response"
   ]
  },
  {
   "cell_type": "code",
   "execution_count": 50,
   "metadata": {},
   "outputs": [
    {
     "data": {
      "text/plain": [
       "{'Saber Interactive': ['Negativo = 0', 'Positivo = 3']}"
      ]
     },
     "execution_count": 50,
     "metadata": {},
     "output_type": "execute_result"
    }
   ],
   "source": [
    "developer_reviews_analysis('saber interactive')"
   ]
  },
  {
   "cell_type": "markdown",
   "metadata": {},
   "source": [
    "# Sistema de recomendacion de juegos por juego"
   ]
  },
  {
   "cell_type": "code",
   "execution_count": 26,
   "metadata": {},
   "outputs": [],
   "source": [
    "def recomendacion_juego(idproducto : int):\n",
    "    df = pd.read_parquet('recom_juegos',engine='auto') #Leemos el dataset\n",
    "    juego = df[(df['item_id'] == idproducto)] #Lo filtramos según el dato ingresado\n",
    "\n",
    "    if juego.empty: #Si no se encuentran valores, termina la función\n",
    "        return \"No se encontraron datos\"\n",
    "    \n",
    "    r = f\"Juegos recomendados similares a {juego['titles'].iloc[0].capitalize()}\" #Generamos la primera etiqueta de respuesta\n",
    "    df = df[((df['main_genre'] == juego['main_genre'].iloc[0]))].reset_index() #Filtramos el dataframe segun el genero del juego localizado\n",
    "    indice = df.index[df['titles'] == juego['titles'].iloc[0]][0] #Obtenemos el indice del juego ingresado\n",
    "    df['score'] = df['sent_pos'] - df['sent_neg'] # Generamos nueva columna con un puntaje donde a las reviews positivas se le restan las negativas\n",
    "    vector = TfidfVectorizer() #Instansiamos el vectorizador\n",
    "    cosine = cosine_similarity(vector.fit_transform(df['genres'])) #Aplicamos el coseno de similitud sobre la vectorización de la columna de referencia sobre las que se van a calcular las similitudes\n",
    "    df['similarity'] = list(cosine[indice])  #Creamos una columna con el coseno de similitud calculado en funcion del juego con ese indice\n",
    "    recs = df.sort_values(['similarity', 'score'], ascending=False)[1:6] # Ordenamos los valores según similitud y puntaje y extraemos los primeros 5,excluyendo el juego ingresado\n",
    "    recs['titles'] = recs['titles'].apply(lambda x: x.capitalize()) # Le ponemos la primera letra mayuscula a los titulos extraidos\n",
    "\n",
    "    response = {r : recs['titles'].tolist()} #Generamos respuesta\n",
    "\n",
    "    return response\n",
    "    "
   ]
  },
  {
   "cell_type": "code",
   "execution_count": 31,
   "metadata": {},
   "outputs": [
    {
     "data": {
      "text/plain": [
       "{'Juegos recomendados similares a Exit 2 - directions': ['Exit',\n",
       "  'Perso',\n",
       "  'Puzzler',\n",
       "  'Planktos',\n",
       "  'Wayout 2: hex']}"
      ]
     },
     "execution_count": 31,
     "metadata": {},
     "output_type": "execute_result"
    }
   ],
   "source": [
    "recomendacion_juego(658870)"
   ]
  },
  {
   "cell_type": "markdown",
   "metadata": {},
   "source": [
    "# Sistema de recomendación de juegos por usuario"
   ]
  },
  {
   "cell_type": "code",
   "execution_count": 44,
   "metadata": {},
   "outputs": [],
   "source": [
    "def recomendacion_usuario(id_de_usuario : str):\n",
    "    df = pd.read_parquet('recom_juegos2')\n",
    "    pref = df[(df['user_id'] == id_de_usuario.lower())].sort_values(by='playtime_forever', ascending=False)[:1] #localizamos el juego que el usuario jugó mas\n",
    "\n",
    "    if pref.empty: #Si no encuentra datos, termina la función\n",
    "        return 'No se encontraron datos'\n",
    "    \n",
    "    r = f\"Juegos recomendados para el usuario {id_de_usuario.capitalize()}\" #Generamos la primera etiqueta de respuesta\n",
    "    df = df.drop_duplicates(subset='titles', keep='last') #Sacamos del dataframe los valores repetidos\n",
    "    df = df[((df['main_genre'] == pref['main_genre'].iloc[0]))].reset_index() #Filtramos el dataframe segun el genero principal del juego localizado\n",
    "    indice = df.index[df['titles'] == pref['titles'].iloc[0]][0] #Obtenemos el indice del juego preferido del usuario\n",
    "    df['score'] = df['sent_pos'] - df['sent_neg'] # Generamos nueva columna con un puntaje donde a las reviews positivas se le restan las negativas\n",
    "    vector = TfidfVectorizer() #Instansiamos el vectorizador\n",
    "    cosine = cosine_similarity(vector.fit_transform(df['genres'])) #Aplicamos el coseno de similitud sobre la vectorización de la columna de referencia sobre las que se van a calcular las similitudes\n",
    "    df['similarity'] = list(cosine[indice])  #Creamos una columna con el coseno de similitud calculado en funcion del juego con ese indice\n",
    "    \n",
    "\n",
    "    recs = df.sort_values(['similarity', 'score'], ascending=False)[1:6] # Ordenamos los valores según similitud y puntaje y extraemos los primeros 5,excluyendo el juego ingresado\n",
    "    recs['titles'] = recs['titles'].apply(lambda x: x.capitalize()) # Le ponemos la primera letra mayuscula a los titulos extraidos\n",
    "\n",
    "    response = {r : recs['titles'].tolist()} #Generamos respuesta\n",
    "\n",
    "    return response\n",
    "        "
   ]
  },
  {
   "cell_type": "code",
   "execution_count": 48,
   "metadata": {},
   "outputs": [
    {
     "data": {
      "text/plain": [
       "{'Juegos recomendados para el usuario Gamerz_united': ['Simpleplanes',\n",
       "  'Mount & blade',\n",
       "  \"Tiny and big: grandpa's leftovers\",\n",
       "  'Xsyon - prelude',\n",
       "  'Rimworld']}"
      ]
     },
     "execution_count": 48,
     "metadata": {},
     "output_type": "execute_result"
    }
   ],
   "source": [
    "recomendacion_usuario('gamerz_united')"
   ]
  }
 ],
 "metadata": {
  "kernelspec": {
   "display_name": "Python 3",
   "language": "python",
   "name": "python3"
  },
  "language_info": {
   "codemirror_mode": {
    "name": "ipython",
    "version": 3
   },
   "file_extension": ".py",
   "mimetype": "text/x-python",
   "name": "python",
   "nbconvert_exporter": "python",
   "pygments_lexer": "ipython3",
   "version": "3.11.2"
  }
 },
 "nbformat": 4,
 "nbformat_minor": 2
}
